{
 "cells": [
  {
   "cell_type": "code",
   "execution_count": 3,
   "metadata": {
    "collapsed": false
   },
   "outputs": [],
   "source": [
    "#!/usr/bin/python\n",
    "# vim: tabstop=8 expandtab shiftwidth=4 softtabstop=4\n",
    "\"Fetch Dylos averages from KairosDB\"\n",
    "\n",
    "import io, pycurl, json, csv, sys, re\n",
    "from datetime import datetime\n",
    "from smtplib import SMTP_SSL as SMTP       # this invokes the secure SMTP protocol (port 465, uses SSL)\n",
    "# from smtplib import SMTP                  # use this for standard SMTP protocol   (port 25, no encryption)\n",
    "#from email.MIMEText import MIMEText\n",
    "#from email.MIMEMultipart import MIMEMultipart\n",
    "\n",
    "\n",
    "##Replace these vars:\n",
    "CACERT = 'C:/Users/Elena/OneDrive/Documents/UW Postdoc/KairosScripts/cacert4.pem'\n",
    "log = \"C:/Users/Elena/OneDrive/Documents/UW Postdoc/KairosScripts/DHM_log.txt\"\n",
    "##"
   ]
  },
  {
   "cell_type": "code",
   "execution_count": 43,
   "metadata": {
    "collapsed": false
   },
   "outputs": [],
   "source": [
    "URL = \"https://replicant.deohs.washington.edu/api/v1/datapoints/query\"\n",
    "AUTH = \"query:treelimberice7\"\n",
    "DYLOS_UNITS = [\"Dylos2\", \"Dylos23\", \"Dylos24\", \"Dylos25\", \"Dylos26\", \"Dylos27\", \"Dylos28\", \"Dylos29\", \"Dylos30\", \"Dylos31\", \"Dylos32\", \"Dylos33\", \"Dylos34\", \"Dylos35\", \"Dylos36\", \"Dylos37\", \"Dylos38\", \"Dylos39\", \"Dylos40\", \"Dylos41\"]\n",
    "dylos_names = [\"Dylos2 - Niland\", \"Dylos23 - Ocotillo\", \"Dylos24 - Calexico Housing\", \"Dylos25 - Brawley High School\", \"Dylos26 - Hidalgo\", \"Dylos27 - Heber\", \"Dylos28 - CARB Calexico\", \"Dylos29 - CCV\", \"Dylos30 - Seeley\", \"Dylos31 - Frank Wright\", \"Dylos32 - Kennedy\", \"Dylos33 - Westmorland\", \"Dylos34 - Brawley Residence\", \"Dylos35 - Meadows\", \"Dylos36 - IID\", \"Dylos37 - Calipatria\", \"Dylos38 - Not Installed\", \"Dylos39 - T.L. Wagonner\", \"Dylos40 - Alvarez Tax Service\", \"Dylos41 - El Centro Wilson\"]\n",
    "MONITORS = []\n",
    "SMTPserver = 'smtp.mail.com'\n",
    "sender =     'Kairos_Emailer@mail.com'\n",
    "destination = ['gncarvlin@gmail.com','eseto@uw.edu','jshirai@uw.edu','humberto@ccvhealth.org']\n",
    "USERNAME = \"Kairos_Emailer@mail.com\"\n",
    "f = open('C:/Users/Elena/OneDrive/Documents/UW Postdoc/KairosScripts/kairos_pass', 'r')\n",
    "PASSWORD = f.read()\n",
    "text_subtype = 'plain'  # typical values for text_subtype are plain, html, xml\n",
    "subject=\"Kairos Update\"\n"
   ]
  },
  {
   "cell_type": "code",
   "execution_count": null,
   "metadata": {
    "collapsed": true
   },
   "outputs": [],
   "source": [
    "def prep_query(u_name):\n",
    "    \"This prepares a data structure to send in JSON format\"\n",
    "    #For health query\n",
    "    query_data = {\"start_relative\": {\"value\": 1, \"unit\": \"days\"}, \"metrics\" : [{\"name\": u_name, \"tags\": {}, \"aggregators\":[{\"name\":\"count\", \"align_sampling\":\"false\",\"sampling\":{\"value\":1,\"unit\":\"years\"}}]},{\"name\": u_name, \"tags\": {\"Bin\":[\"bin1\"]}, \"aggregators\":[{\"name\":\"min\", \"align_sampling\":\"false\",\"sampling\":{\"value\":1,\"unit\":\"days\"}}]}]}\n",
    "    return query_data\n",
    "\n",
    "def send_query(db_query):\n",
    "    \"This sends out individual queries using pycurl which calls libcurl\"\n",
    "    buf = io.StringIO()\n",
    "    req = pycurl.Curl()\n",
    "    req.setopt(req.URL, URL)\n",
    "    req.setopt(req.CAINFO, CACERT)\n",
    "    req.setopt(req.USERPWD, AUTH)\n",
    "    req.setopt(req.POSTFIELDS, json.dumps(db_query))\n",
    "    req.setopt(req.WRITEDATA, buf)\n",
    "    req.setopt(req.POST, 1)\n",
    "    req.perform()\n",
    "    req.close()\n",
    "    h = json.loads(buf.getvalue())[\"queries\"][0][\"sample_size\"]\n",
    "    if (json.loads(buf.getvalue())[\"queries\"][1][\"sample_size\"]!=0):\n",
    "        j = json.loads(buf.getvalue())[\"queries\"][1][\"results\"][0][\"values\"][0][1]\n",
    "    else:\n",
    "        j = -1\n",
    "    return [h,j]"
   ]
  },
  {
   "cell_type": "code",
   "execution_count": 65,
   "metadata": {
    "collapsed": false
   },
   "outputs": [
    {
     "ename": "TypeError",
     "evalue": "string argument expected, got 'bytes'",
     "output_type": "error",
     "traceback": [
      "\u001b[1;31m---------------------------------------------------------------------------\u001b[0m",
      "\u001b[1;31mTypeError\u001b[0m                                 Traceback (most recent call last)",
      "\u001b[1;31mTypeError\u001b[0m: string argument expected, got 'bytes'"
     ]
    },
    {
     "ename": "error",
     "evalue": "(23, 'Failed writing body (0 != 153)')",
     "output_type": "error",
     "traceback": [
      "\u001b[1;31m---------------------------------------------------------------------------\u001b[0m",
      "\u001b[1;31merror\u001b[0m                                     Traceback (most recent call last)",
      "\u001b[1;32m<ipython-input-65-18c4eb1fa7c9>\u001b[0m in \u001b[0;36m<module>\u001b[1;34m()\u001b[0m\n\u001b[0;32m     29\u001b[0m \u001b[1;32mfor\u001b[0m \u001b[0mdylos\u001b[0m \u001b[1;32min\u001b[0m \u001b[0mDYLOS_UNITS\u001b[0m\u001b[1;33m:\u001b[0m\u001b[1;33m\u001b[0m\u001b[0m\n\u001b[0;32m     30\u001b[0m     \u001b[1;31m# Get number of data points uploaded in last 24 hours\u001b[0m\u001b[1;33m\u001b[0m\u001b[1;33m\u001b[0m\u001b[0m\n\u001b[1;32m---> 31\u001b[1;33m     \u001b[0mmInfo\u001b[0m \u001b[1;33m=\u001b[0m \u001b[0msend_query\u001b[0m\u001b[1;33m(\u001b[0m\u001b[0mprep_query\u001b[0m\u001b[1;33m(\u001b[0m\u001b[0mdylos\u001b[0m\u001b[1;33m)\u001b[0m\u001b[1;33m)\u001b[0m\u001b[1;33m\u001b[0m\u001b[0m\n\u001b[0m\u001b[0;32m     32\u001b[0m     \u001b[0mhealth\u001b[0m \u001b[1;33m=\u001b[0m \u001b[0mmInfo\u001b[0m\u001b[1;33m[\u001b[0m\u001b[1;36m0\u001b[0m\u001b[1;33m]\u001b[0m\u001b[1;33m\u001b[0m\u001b[0m\n\u001b[0;32m     33\u001b[0m     \u001b[0mzero\u001b[0m \u001b[1;33m=\u001b[0m \u001b[0mmInfo\u001b[0m\u001b[1;33m[\u001b[0m\u001b[1;36m1\u001b[0m\u001b[1;33m]\u001b[0m\u001b[1;33m\u001b[0m\u001b[0m\n",
      "\u001b[1;32m<ipython-input-65-18c4eb1fa7c9>\u001b[0m in \u001b[0;36msend_query\u001b[1;34m(db_query)\u001b[0m\n\u001b[0;32m     15\u001b[0m     \u001b[0mreq\u001b[0m\u001b[1;33m.\u001b[0m\u001b[0msetopt\u001b[0m\u001b[1;33m(\u001b[0m\u001b[0mreq\u001b[0m\u001b[1;33m.\u001b[0m\u001b[0mWRITEDATA\u001b[0m\u001b[1;33m,\u001b[0m \u001b[0mbuf\u001b[0m\u001b[1;33m)\u001b[0m\u001b[1;33m\u001b[0m\u001b[0m\n\u001b[0;32m     16\u001b[0m     \u001b[0mreq\u001b[0m\u001b[1;33m.\u001b[0m\u001b[0msetopt\u001b[0m\u001b[1;33m(\u001b[0m\u001b[0mreq\u001b[0m\u001b[1;33m.\u001b[0m\u001b[0mPOST\u001b[0m\u001b[1;33m,\u001b[0m \u001b[1;36m1\u001b[0m\u001b[1;33m)\u001b[0m\u001b[1;33m\u001b[0m\u001b[0m\n\u001b[1;32m---> 17\u001b[1;33m     \u001b[0mreq\u001b[0m\u001b[1;33m.\u001b[0m\u001b[0mperform\u001b[0m\u001b[1;33m(\u001b[0m\u001b[1;33m)\u001b[0m\u001b[1;33m\u001b[0m\u001b[0m\n\u001b[0m\u001b[0;32m     18\u001b[0m     \u001b[0mreq\u001b[0m\u001b[1;33m.\u001b[0m\u001b[0mclose\u001b[0m\u001b[1;33m(\u001b[0m\u001b[1;33m)\u001b[0m\u001b[1;33m\u001b[0m\u001b[0m\n\u001b[0;32m     19\u001b[0m     \u001b[0mh\u001b[0m \u001b[1;33m=\u001b[0m \u001b[0mjson\u001b[0m\u001b[1;33m.\u001b[0m\u001b[0mloads\u001b[0m\u001b[1;33m(\u001b[0m\u001b[0mbuf\u001b[0m\u001b[1;33m.\u001b[0m\u001b[0mgetvalue\u001b[0m\u001b[1;33m(\u001b[0m\u001b[1;33m)\u001b[0m\u001b[1;33m)\u001b[0m\u001b[1;33m[\u001b[0m\u001b[1;34m\"queries\"\u001b[0m\u001b[1;33m]\u001b[0m\u001b[1;33m[\u001b[0m\u001b[1;36m0\u001b[0m\u001b[1;33m]\u001b[0m\u001b[1;33m[\u001b[0m\u001b[1;34m\"sample_size\"\u001b[0m\u001b[1;33m]\u001b[0m\u001b[1;33m\u001b[0m\u001b[0m\n",
      "\u001b[1;31merror\u001b[0m: (23, 'Failed writing body (0 != 153)')"
     ]
    }
   ],
   "source": [
    "#Loop through each Dylos unit\n",
    "count = 0\n",
    "for dylos in DYLOS_UNITS:\n",
    "    # Get number of data points uploaded in last 24 hours\n",
    "    mInfo = send_query(prep_query(dylos))\n",
    "    health = mInfo[0]\n",
    "    zero = mInfo[1]\n",
    "    health_percent = round((100 * health)/1728.0,3)\n",
    "    if (int(health_percent)>=95):\n",
    "        health_color = \"#08BF0B\" #green\n",
    "    elif ((int(health_percent)>=75) and (int(health_percent) <95)):\n",
    "        health_color = \"#E8A617\" #orange\n",
    "    else:\n",
    "        health_color = \"#DE3333\" #red\n",
    "    if (re.search(\"Not Installed\", dylos_names[count]) or re.search(\"old name\", dylos_names[count])):\n",
    "        health_color = \"#A6A6A6\" #grey\n",
    "    #Test if Dylos reading 0s\n",
    "    if (zero==0):\n",
    "        dylosError = True\n",
    "    else:\n",
    "        dylosError = False\n",
    "    MONITORS.append([health_percent,health_color,dylosError])\n",
    "    count = count + 1"
   ]
  },
  {
   "cell_type": "code",
   "execution_count": 71,
   "metadata": {
    "collapsed": false
   },
   "outputs": [
    {
     "ename": "TypeError",
     "evalue": "string argument expected, got 'bytes'",
     "output_type": "error",
     "traceback": [
      "\u001b[1;31m---------------------------------------------------------------------------\u001b[0m",
      "\u001b[1;31mTypeError\u001b[0m                                 Traceback (most recent call last)",
      "\u001b[1;31mTypeError\u001b[0m: string argument expected, got 'bytes'"
     ]
    },
    {
     "ename": "error",
     "evalue": "(23, 'Failed writing body (0 != 153)')",
     "output_type": "error",
     "traceback": [
      "\u001b[1;31m---------------------------------------------------------------------------\u001b[0m",
      "\u001b[1;31merror\u001b[0m                                     Traceback (most recent call last)",
      "\u001b[1;32m<ipython-input-71-dff2ef43e282>\u001b[0m in \u001b[0;36m<module>\u001b[1;34m()\u001b[0m\n\u001b[1;32m----> 1\u001b[1;33m \u001b[0msend_query\u001b[0m\u001b[1;33m(\u001b[0m\u001b[0mprep_query\u001b[0m\u001b[1;33m(\u001b[0m\u001b[0mdylos\u001b[0m\u001b[1;33m)\u001b[0m\u001b[1;33m)\u001b[0m\u001b[1;33m\u001b[0m\u001b[0m\n\u001b[0m",
      "\u001b[1;32m<ipython-input-65-18c4eb1fa7c9>\u001b[0m in \u001b[0;36msend_query\u001b[1;34m(db_query)\u001b[0m\n\u001b[0;32m     15\u001b[0m     \u001b[0mreq\u001b[0m\u001b[1;33m.\u001b[0m\u001b[0msetopt\u001b[0m\u001b[1;33m(\u001b[0m\u001b[0mreq\u001b[0m\u001b[1;33m.\u001b[0m\u001b[0mWRITEDATA\u001b[0m\u001b[1;33m,\u001b[0m \u001b[0mbuf\u001b[0m\u001b[1;33m)\u001b[0m\u001b[1;33m\u001b[0m\u001b[0m\n\u001b[0;32m     16\u001b[0m     \u001b[0mreq\u001b[0m\u001b[1;33m.\u001b[0m\u001b[0msetopt\u001b[0m\u001b[1;33m(\u001b[0m\u001b[0mreq\u001b[0m\u001b[1;33m.\u001b[0m\u001b[0mPOST\u001b[0m\u001b[1;33m,\u001b[0m \u001b[1;36m1\u001b[0m\u001b[1;33m)\u001b[0m\u001b[1;33m\u001b[0m\u001b[0m\n\u001b[1;32m---> 17\u001b[1;33m     \u001b[0mreq\u001b[0m\u001b[1;33m.\u001b[0m\u001b[0mperform\u001b[0m\u001b[1;33m(\u001b[0m\u001b[1;33m)\u001b[0m\u001b[1;33m\u001b[0m\u001b[0m\n\u001b[0m\u001b[0;32m     18\u001b[0m     \u001b[0mreq\u001b[0m\u001b[1;33m.\u001b[0m\u001b[0mclose\u001b[0m\u001b[1;33m(\u001b[0m\u001b[1;33m)\u001b[0m\u001b[1;33m\u001b[0m\u001b[0m\n\u001b[0;32m     19\u001b[0m     \u001b[0mh\u001b[0m \u001b[1;33m=\u001b[0m \u001b[0mjson\u001b[0m\u001b[1;33m.\u001b[0m\u001b[0mloads\u001b[0m\u001b[1;33m(\u001b[0m\u001b[0mbuf\u001b[0m\u001b[1;33m.\u001b[0m\u001b[0mgetvalue\u001b[0m\u001b[1;33m(\u001b[0m\u001b[1;33m)\u001b[0m\u001b[1;33m)\u001b[0m\u001b[1;33m[\u001b[0m\u001b[1;34m\"queries\"\u001b[0m\u001b[1;33m]\u001b[0m\u001b[1;33m[\u001b[0m\u001b[1;36m0\u001b[0m\u001b[1;33m]\u001b[0m\u001b[1;33m[\u001b[0m\u001b[1;34m\"sample_size\"\u001b[0m\u001b[1;33m]\u001b[0m\u001b[1;33m\u001b[0m\u001b[0m\n",
      "\u001b[1;31merror\u001b[0m: (23, 'Failed writing body (0 != 153)')"
     ]
    }
   ],
   "source": [
    "send_query(prep_query(dylos))"
   ]
  },
  {
   "cell_type": "code",
   "execution_count": 73,
   "metadata": {
    "collapsed": false
   },
   "outputs": [
    {
     "name": "stdout",
     "output_type": "stream",
     "text": [
      "Object `io.close` not found.\n"
     ]
    }
   ],
   "source": [
    "?pycurl."
   ]
  },
  {
   "cell_type": "code",
   "execution_count": null,
   "metadata": {
    "collapsed": true
   },
   "outputs": [],
   "source": []
  }
 ],
 "metadata": {
  "kernelspec": {
   "display_name": "Python 3",
   "language": "python",
   "name": "python3"
  },
  "language_info": {
   "codemirror_mode": {
    "name": "ipython",
    "version": 3
   },
   "file_extension": ".py",
   "mimetype": "text/x-python",
   "name": "python",
   "nbconvert_exporter": "python",
   "pygments_lexer": "ipython3",
   "version": "3.5.1"
  }
 },
 "nbformat": 4,
 "nbformat_minor": 0
}
